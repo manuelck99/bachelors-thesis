{
 "cells": [
  {
   "cell_type": "code",
   "id": "initial_id",
   "metadata": {
    "collapsed": true,
    "ExecuteTime": {
     "end_time": "2025-04-07T11:04:14.427786Z",
     "start_time": "2025-04-07T11:04:14.424925Z"
    }
   },
   "source": [
    "import json\n",
    "import pickle\n",
    "\n",
    "import networkx as nx\n",
    "from leuvenmapmatching.map.inmem import InMemMap\n",
    "from leuvenmapmatching.matcher.distance import DistanceMatcher"
   ],
   "outputs": [],
   "execution_count": 13
  },
  {
   "metadata": {
    "ExecuteTime": {
     "end_time": "2025-04-07T11:04:14.651724Z",
     "start_time": "2025-04-07T11:04:14.469534Z"
    }
   },
   "cell_type": "code",
   "source": [
    "dataset_path = \"../datasets/UrbanVehicle\"\n",
    "\n",
    "trajectories = list()\n",
    "with open(f\"{dataset_path}/trajectories.json\", mode=\"r\", encoding=\"utf-8\") as file:\n",
    "    for line in file:\n",
    "        trajectory = json.loads(line)\n",
    "        trajectory[\"xyt\"].sort(key=lambda l: l[2])\n",
    "        trajectory[\"xy\"] = [(x, y) for x, y, _ in trajectory[\"xyt\"]]\n",
    "        del trajectory[\"xyt\"]\n",
    "        trajectories.append(trajectory)\n",
    "\n",
    "road_graph: nx.DiGraph\n",
    "with open(\"road_graph_nsl_sc.pickle\", mode=\"rb\") as file:\n",
    "    road_graph = pickle.load(file)"
   ],
   "id": "f32ed36897716457",
   "outputs": [],
   "execution_count": 14
  },
  {
   "metadata": {
    "ExecuteTime": {
     "end_time": "2025-04-07T11:08:07.635891Z",
     "start_time": "2025-04-07T11:04:14.661782Z"
    }
   },
   "cell_type": "code",
   "source": [
    "map = InMemMap(name=\"road_graph\", use_latlon=False, use_rtree=True, index_edges=True)\n",
    "for node in road_graph.nodes():\n",
    "    x, y = road_graph.nodes[node][\"pos\"]\n",
    "    map.add_node(node, (x, y))\n",
    "\n",
    "for u, v in road_graph.edges():\n",
    "    map.add_edge(u, v)\n",
    "\n",
    "for trajectory in trajectories:\n",
    "    path = trajectory[\"xy\"]\n",
    "    matcher = DistanceMatcher(map_con=map, max_dist=50000, obs_noise=100, min_prob_norm=0.01, max_lattice_width=10)\n",
    "    states, index = matcher.match(path)\n",
    "    print(f\"Index: {index}, Length: {len(path)}, {index == len(path) - 1}\")"
   ],
   "id": "bacf1baea59c95b9",
   "outputs": [
    {
     "name": "stdout",
     "output_type": "stream",
     "text": [
      "Index: 605, Length: 606, True\n",
      "Index: 375, Length: 376, True\n",
      "Index: 447, Length: 448, True\n",
      "Index: 323, Length: 324, True\n",
      "Index: 76, Length: 464, False\n",
      "Index: 430, Length: 431, True\n",
      "Index: 740, Length: 741, True\n",
      "Index: 16, Length: 385, False\n",
      "Index: 2169, Length: 13574, False\n",
      "Index: 408, Length: 409, True\n",
      "Index: 471, Length: 472, True\n",
      "Index: 586, Length: 587, True\n",
      "Index: 364, Length: 365, True\n",
      "Index: 0, Length: 401, False\n",
      "Index: 365, Length: 366, True\n",
      "Index: 763, Length: 764, True\n",
      "Index: 258, Length: 554, False\n",
      "Index: 335, Length: 359, False\n",
      "Index: 321, Length: 322, True\n",
      "Index: 279, Length: 280, True\n",
      "Index: 732, Length: 733, True\n",
      "Index: 883, Length: 884, True\n",
      "Index: 879, Length: 880, True\n",
      "Index: 205, Length: 316, False\n",
      "Index: 737, Length: 738, True\n",
      "Index: 471, Length: 472, True\n",
      "Index: 376, Length: 377, True\n",
      "Index: 673, Length: 674, True\n",
      "Index: 1254, Length: 1255, True\n",
      "Index: 473, Length: 474, True\n",
      "Index: 912, Length: 1014, False\n",
      "Index: 488, Length: 489, True\n"
     ]
    },
    {
     "ename": "KeyboardInterrupt",
     "evalue": "",
     "output_type": "error",
     "traceback": [
      "\u001B[0;31m---------------------------------------------------------------------------\u001B[0m",
      "\u001B[0;31mKeyboardInterrupt\u001B[0m                         Traceback (most recent call last)",
      "Cell \u001B[0;32mIn[15], line 12\u001B[0m\n\u001B[1;32m     10\u001B[0m path \u001B[38;5;241m=\u001B[39m trajectory[\u001B[38;5;124m\"\u001B[39m\u001B[38;5;124mxy\u001B[39m\u001B[38;5;124m\"\u001B[39m]\n\u001B[1;32m     11\u001B[0m matcher \u001B[38;5;241m=\u001B[39m DistanceMatcher(map_con\u001B[38;5;241m=\u001B[39m\u001B[38;5;28mmap\u001B[39m, max_dist\u001B[38;5;241m=\u001B[39m\u001B[38;5;241m50000\u001B[39m, obs_noise\u001B[38;5;241m=\u001B[39m\u001B[38;5;241m100\u001B[39m, min_prob_norm\u001B[38;5;241m=\u001B[39m\u001B[38;5;241m0.01\u001B[39m, max_lattice_width\u001B[38;5;241m=\u001B[39m\u001B[38;5;241m10\u001B[39m)\n\u001B[0;32m---> 12\u001B[0m states, index \u001B[38;5;241m=\u001B[39m matcher\u001B[38;5;241m.\u001B[39mmatch(path)\n\u001B[1;32m     13\u001B[0m \u001B[38;5;28mprint\u001B[39m(\u001B[38;5;124mf\u001B[39m\u001B[38;5;124m\"\u001B[39m\u001B[38;5;124mIndex: \u001B[39m\u001B[38;5;132;01m{\u001B[39;00mindex\u001B[38;5;132;01m}\u001B[39;00m\u001B[38;5;124m, Length: \u001B[39m\u001B[38;5;132;01m{\u001B[39;00m\u001B[38;5;28mlen\u001B[39m(path)\u001B[38;5;132;01m}\u001B[39;00m\u001B[38;5;124m, \u001B[39m\u001B[38;5;132;01m{\u001B[39;00mindex\u001B[38;5;250m \u001B[39m\u001B[38;5;241m==\u001B[39m\u001B[38;5;250m \u001B[39m\u001B[38;5;28mlen\u001B[39m(path)\u001B[38;5;250m \u001B[39m\u001B[38;5;241m-\u001B[39m\u001B[38;5;250m \u001B[39m\u001B[38;5;241m1\u001B[39m\u001B[38;5;132;01m}\u001B[39;00m\u001B[38;5;124m\"\u001B[39m)\n",
      "File \u001B[0;32m~/anaconda3/envs/bachelors-thesis/lib/python3.12/site-packages/leuvenmapmatching/matcher/base.py:618\u001B[0m, in \u001B[0;36mBaseMatcher.match\u001B[0;34m(self, path, unique, tqdm, expand)\u001B[0m\n\u001B[1;32m    615\u001B[0m \u001B[38;5;28mself\u001B[39m\u001B[38;5;241m.\u001B[39m_match_states(obs_idx)\n\u001B[1;32m    616\u001B[0m \u001B[38;5;28;01mif\u001B[39;00m \u001B[38;5;28mself\u001B[39m\u001B[38;5;241m.\u001B[39mnon_emitting_states:\n\u001B[1;32m    617\u001B[0m     \u001B[38;5;66;03m# Fill in non-emitting states between previous and current observation\u001B[39;00m\n\u001B[0;32m--> 618\u001B[0m     \u001B[38;5;28mself\u001B[39m\u001B[38;5;241m.\u001B[39m_match_non_emitting_states(obs_idx \u001B[38;5;241m-\u001B[39m \u001B[38;5;241m1\u001B[39m, expand\u001B[38;5;241m=\u001B[39mexpand)\n\u001B[1;32m    619\u001B[0m \u001B[38;5;28;01mif\u001B[39;00m \u001B[38;5;28mself\u001B[39m\u001B[38;5;241m.\u001B[39mmax_lattice_width:\n\u001B[1;32m    620\u001B[0m     \u001B[38;5;66;03m# Prune again if non_emitting_states reactives matches from match_states\u001B[39;00m\n\u001B[1;32m    621\u001B[0m     \u001B[38;5;28mself\u001B[39m\u001B[38;5;241m.\u001B[39mlattice[obs_idx]\u001B[38;5;241m.\u001B[39mprune(\u001B[38;5;241m0\u001B[39m, \u001B[38;5;28mself\u001B[39m\u001B[38;5;241m.\u001B[39mmax_lattice_width, \u001B[38;5;28mself\u001B[39m\u001B[38;5;241m.\u001B[39mexpand_now)\n",
      "File \u001B[0;32m~/anaconda3/envs/bachelors-thesis/lib/python3.12/site-packages/leuvenmapmatching/matcher/base.py:848\u001B[0m, in \u001B[0;36mBaseMatcher._match_non_emitting_states\u001B[0;34m(self, obs_idx, expand)\u001B[0m\n\u001B[1;32m    846\u001B[0m     \u001B[38;5;28mself\u001B[39m\u001B[38;5;241m.\u001B[39mlattice[obs_idx]\u001B[38;5;241m.\u001B[39mprune(nb_ne, \u001B[38;5;28mself\u001B[39m\u001B[38;5;241m.\u001B[39mmax_lattice_width, \u001B[38;5;28mself\u001B[39m\u001B[38;5;241m.\u001B[39mexpand_now, prune_thr)\n\u001B[1;32m    847\u001B[0m \u001B[38;5;66;03m# Link to next observation\u001B[39;00m\n\u001B[0;32m--> 848\u001B[0m \u001B[38;5;28mself\u001B[39m\u001B[38;5;241m.\u001B[39m_match_non_emitting_states_end(cur_lattice, obs_idx \u001B[38;5;241m+\u001B[39m \u001B[38;5;241m1\u001B[39m, obs_next,\n\u001B[1;32m    849\u001B[0m                                     lattice_best, expand\u001B[38;5;241m=\u001B[39mexpand)\n\u001B[1;32m    850\u001B[0m \u001B[38;5;28;01mif\u001B[39;00m \u001B[38;5;28mself\u001B[39m\u001B[38;5;241m.\u001B[39mmax_lattice_width \u001B[38;5;129;01mis\u001B[39;00m \u001B[38;5;129;01mnot\u001B[39;00m \u001B[38;5;28;01mNone\u001B[39;00m:\n\u001B[1;32m    851\u001B[0m     prune_thr \u001B[38;5;241m=\u001B[39m \u001B[38;5;28mself\u001B[39m\u001B[38;5;241m.\u001B[39mlattice[obs_idx \u001B[38;5;241m+\u001B[39m \u001B[38;5;241m1\u001B[39m]\u001B[38;5;241m.\u001B[39mprune(\u001B[38;5;241m0\u001B[39m, \u001B[38;5;28mself\u001B[39m\u001B[38;5;241m.\u001B[39mmax_lattice_width, \u001B[38;5;28mself\u001B[39m\u001B[38;5;241m.\u001B[39mexpand_now, \u001B[38;5;28;01mNone\u001B[39;00m)\n",
      "File \u001B[0;32m~/anaconda3/envs/bachelors-thesis/lib/python3.12/site-packages/leuvenmapmatching/matcher/base.py:1047\u001B[0m, in \u001B[0;36mBaseMatcher._match_non_emitting_states_end\u001B[0;34m(self, cur_lattice, obs_idx, obs_next, lattice_best, expand)\u001B[0m\n\u001B[1;32m   1045\u001B[0m         \u001B[38;5;28;01melse\u001B[39;00m:\n\u001B[1;32m   1046\u001B[0m             \u001B[38;5;28;01mif\u001B[39;00m __debug__:\n\u001B[0;32m-> 1047\u001B[0m                 logger\u001B[38;5;241m.\u001B[39mdebug(\u001B[38;5;28mself\u001B[39m\u001B[38;5;241m.\u001B[39mmatching\u001B[38;5;241m.\u001B[39mrepr_static((\u001B[38;5;124m'\u001B[39m\u001B[38;5;124mx\u001B[39m\u001B[38;5;124m'\u001B[39m, \u001B[38;5;124m'\u001B[39m\u001B[38;5;132;01m{}\u001B[39;00m\u001B[38;5;124m < going back\u001B[39m\u001B[38;5;124m'\u001B[39m\u001B[38;5;241m.\u001B[39mformat(nbr_label2))))\n\u001B[1;32m   1048\u001B[0m \u001B[38;5;28;01melse\u001B[39;00m:  \u001B[38;5;66;03m# m.edge_m.l2 is None:\u001B[39;00m\n\u001B[1;32m   1049\u001B[0m     \u001B[38;5;66;03m# Move to neighbour node from node\u001B[39;00m\n\u001B[1;32m   1050\u001B[0m     cur_node \u001B[38;5;241m=\u001B[39m m\u001B[38;5;241m.\u001B[39medge_m\u001B[38;5;241m.\u001B[39ml1\n",
      "File \u001B[0;32m~/anaconda3/envs/bachelors-thesis/lib/python3.12/site-packages/leuvenmapmatching/matcher/base.py:281\u001B[0m, in \u001B[0;36mBaseMatching.repr_static\u001B[0;34m(fields, label_width)\u001B[0m\n\u001B[1;32m    279\u001B[0m \u001B[38;5;28;01mif\u001B[39;00m \u001B[38;5;28mlen\u001B[39m(fields) \u001B[38;5;241m<\u001B[39m \u001B[38;5;241m8\u001B[39m:\n\u001B[1;32m    280\u001B[0m     fields \u001B[38;5;241m=\u001B[39m \u001B[38;5;28mlist\u001B[39m(fields) \u001B[38;5;241m+\u001B[39m default_fields[\u001B[38;5;28mlen\u001B[39m(fields):]\n\u001B[0;32m--> 281\u001B[0m \u001B[38;5;28;01mreturn\u001B[39;00m repr_tmpl\u001B[38;5;241m.\u001B[39mformat(\u001B[38;5;241m*\u001B[39mfields)\n",
      "\u001B[0;31mKeyboardInterrupt\u001B[0m: "
     ]
    }
   ],
   "execution_count": 15
  }
 ],
 "metadata": {
  "kernelspec": {
   "display_name": "Python 3",
   "language": "python",
   "name": "python3"
  },
  "language_info": {
   "codemirror_mode": {
    "name": "ipython",
    "version": 2
   },
   "file_extension": ".py",
   "mimetype": "text/x-python",
   "name": "python",
   "nbconvert_exporter": "python",
   "pygments_lexer": "ipython2",
   "version": "2.7.6"
  }
 },
 "nbformat": 4,
 "nbformat_minor": 5
}
