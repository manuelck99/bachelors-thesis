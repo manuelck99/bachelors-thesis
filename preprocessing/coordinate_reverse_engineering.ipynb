{
 "cells": [
  {
   "cell_type": "code",
   "id": "initial_id",
   "metadata": {
    "collapsed": true,
    "ExecuteTime": {
     "end_time": "2025-04-01T18:55:18.418041Z",
     "start_time": "2025-04-01T18:55:18.415279Z"
    }
   },
   "source": [
    "import json\n",
    "\n",
    "import numpy as np\n",
    "import pandas as pd"
   ],
   "outputs": [],
   "execution_count": 318
  },
  {
   "metadata": {
    "ExecuteTime": {
     "end_time": "2025-04-01T18:55:18.465360Z",
     "start_time": "2025-04-01T18:55:18.461690Z"
    }
   },
   "cell_type": "code",
   "source": [
    "## Reverse-engineered matching road graph nodes\n",
    "# Node coordinates probably in Transverse Mercator\n",
    "node_ids = [105, 741, 90, 732, 567, 580, 924, 6099, 59, 601, 1351, 133]\n",
    "# Node coordinates in WGS84\n",
    "other_node_ids = [6091, 3891, 3815, 4582, 3890, 3808, 3809, 10529, 6927, 4237, 3835, 4218]"
   ],
   "id": "9ef0b51a2e5cf6e2",
   "outputs": [],
   "execution_count": 319
  },
  {
   "metadata": {
    "ExecuteTime": {
     "end_time": "2025-04-01T18:55:18.570152Z",
     "start_time": "2025-04-01T18:55:18.509114Z"
    }
   },
   "cell_type": "code",
   "source": [
    "## Build other road graph\n",
    "nodes_path = \"node_shenzhen.csv\"\n",
    "edges_path = \"edge_shenzhen.csv\"\n",
    "\n",
    "nodes_df = pd.read_csv(nodes_path)\n",
    "edges_df = pd.read_csv(edges_path)\n",
    "\n",
    "# https://github.com/tsinghua-fib-lab/City-Camera-Trajectory-Data/blob/main/example/usage.ipynb\n",
    "# nodes = [\n",
    "#     (\n",
    "#         int(nid),\n",
    "#         {\n",
    "#             \"id\": int(nid),\n",
    "#             \"x\": float(lon),\n",
    "#             \"y\": float(lat),\n",
    "#             \"has_camera\": bool(hasc)\n",
    "#         }\n",
    "#     ) for _, (nid, lon, lat, hasc) in nodes_df.iterrows()\n",
    "# ]\n",
    "# edges = [\n",
    "#     (\n",
    "#         int(o),\n",
    "#         int(d),\n",
    "#         {\n",
    "#             \"id\": i,\n",
    "#             \"od\": [int(o), int(d)],\n",
    "#             \"class\": c,\n",
    "#             \"points\": [[float(x) for x in p.split(\"-\")] for p in geo.split(\"_\")],\n",
    "#             \"length\": float(l)\n",
    "#         }\n",
    "#     ) for i, (o, d, c, geo, l) in edges_df.iterrows()\n",
    "# ]\n",
    "#\n",
    "# for e in edges:\n",
    "#     e[2][\"geometry\"] = shp.LineString(e[2][\"points\"])\n",
    "#\n",
    "# road_graph = nx.DiGraph()\n",
    "# road_graph.add_nodes_from(nodes)\n",
    "# road_graph.add_edges_from(edges)\n",
    "# road_graph.graph[\"crs\"] = \"WGS84\"\n",
    "#\n",
    "# # Visualize other road graph\n",
    "# fig, ax = ox.plot_graph(\n",
    "#     nx.MultiDiGraph(road_graph),\n",
    "#     bgcolor=\"white\",\n",
    "#     node_size=2,\n",
    "#     node_color=\"blue\",\n",
    "#     edge_color=\"black\")\n",
    "#\n",
    "# for node, data in road_graph.nodes(data=True):\n",
    "#     if node in other_node_ids:\n",
    "#         x, y = data[\"x\"], data[\"y\"]\n",
    "#         ax.text(x, y, str(node), fontsize=1, color=\"red\", ha=\"center\", va=\"center\")\n",
    "#\n",
    "# fig.savefig(\"other_road_graph.svg\")\n",
    "# plt.show()"
   ],
   "id": "8d8a3db0605faf1f",
   "outputs": [],
   "execution_count": 320
  },
  {
   "metadata": {
    "ExecuteTime": {
     "end_time": "2025-04-01T18:55:18.876029Z",
     "start_time": "2025-04-01T18:55:18.585550Z"
    }
   },
   "cell_type": "code",
   "source": [
    "# Fetch node coordinates\n",
    "other_nodes_dict = dict()\n",
    "for _, row in nodes_df.iterrows():\n",
    "    node_id = int(row[\"NodeID\"])\n",
    "    if node_id in other_node_ids:\n",
    "        other_nodes_dict[node_id] = {\"lon\": float(row[\"Longitude\"]), \"lat\": float(row[\"Latitude\"])}\n",
    "\n",
    "nodes_dict = dict()\n",
    "dataset_path = \"../datasets/UrbanVehicle\"\n",
    "with open(f\"{dataset_path}/map.json\", mode=\"r\", encoding=\"utf-8\") as file:\n",
    "    items = json.load(file)\n",
    "\n",
    "    for item in items:\n",
    "        node_id = item[\"id\"]\n",
    "        if item[\"type\"] == \"node\" and node_id in node_ids:\n",
    "            nodes_dict[node_id] = {\"x\": item[\"xy\"][0], \"y\": item[\"xy\"][1]}"
   ],
   "id": "50a5bc43f02d897",
   "outputs": [],
   "execution_count": 321
  },
  {
   "metadata": {
    "ExecuteTime": {
     "end_time": "2025-04-01T18:55:18.894239Z",
     "start_time": "2025-04-01T18:55:18.891874Z"
    }
   },
   "cell_type": "code",
   "source": [
    "gps_points = np.array(\n",
    "    [[other_nodes_dict[node_id][\"lon\"], other_nodes_dict[node_id][\"lat\"]] for node_id in other_node_ids])\n",
    "xy_points = np.array([[nodes_dict[node_id][\"x\"], nodes_dict[node_id][\"y\"]] for node_id in node_ids])"
   ],
   "id": "c84c45c1d7b2af85",
   "outputs": [],
   "execution_count": 322
  }
 ],
 "metadata": {
  "kernelspec": {
   "display_name": "Python 3",
   "language": "python",
   "name": "python3"
  },
  "language_info": {
   "codemirror_mode": {
    "name": "ipython",
    "version": 2
   },
   "file_extension": ".py",
   "mimetype": "text/x-python",
   "name": "python",
   "nbconvert_exporter": "python",
   "pygments_lexer": "ipython2",
   "version": "2.7.6"
  }
 },
 "nbformat": 4,
 "nbformat_minor": 5
}
