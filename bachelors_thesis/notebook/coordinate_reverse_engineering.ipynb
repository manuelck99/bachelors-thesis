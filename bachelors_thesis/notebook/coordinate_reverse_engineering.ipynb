{
 "cells": [
  {
   "cell_type": "code",
   "id": "initial_id",
   "metadata": {
    "collapsed": true,
    "ExecuteTime": {
     "end_time": "2025-04-16T15:13:22.576233Z",
     "start_time": "2025-04-16T15:13:22.573138Z"
    }
   },
   "source": [
    "import json\n",
    "\n",
    "import numpy as np\n",
    "import pandas as pd\n",
    "from scipy.optimize import least_squares"
   ],
   "outputs": [],
   "execution_count": 13
  },
  {
   "metadata": {
    "ExecuteTime": {
     "end_time": "2025-04-16T15:13:22.619772Z",
     "start_time": "2025-04-16T15:13:22.617125Z"
    }
   },
   "cell_type": "code",
   "source": "data_path = \"../../data\"",
   "id": "83791e7091ddab57",
   "outputs": [],
   "execution_count": 14
  },
  {
   "metadata": {
    "ExecuteTime": {
     "end_time": "2025-04-16T15:13:22.667460Z",
     "start_time": "2025-04-16T15:13:22.663728Z"
    }
   },
   "cell_type": "code",
   "source": [
    "## Reverse-engineered matching road graph nodes\n",
    "# Nodes in unknown projection in the MMVC road graph\n",
    "mmvc_node_ids = [105, 741, 90, 732, 567, 580, 924, 6099, 59, 601, 1351, 133]\n",
    "# Nodes in WGS84 in the CSVT road graph\n",
    "csvt_node_ids = [6091, 3891, 3815, 4582, 3890, 3808, 3809, 10529, 6927, 4237, 3835, 4218]"
   ],
   "id": "9ef0b51a2e5cf6e2",
   "outputs": [],
   "execution_count": 15
  },
  {
   "metadata": {
    "ExecuteTime": {
     "end_time": "2025-04-16T15:13:23.093433Z",
     "start_time": "2025-04-16T15:13:22.710341Z"
    }
   },
   "cell_type": "code",
   "source": [
    "nodes_path = f\"{data_path}/road_graph/node_shenzhen.csv\"\n",
    "edges_path = f\"{data_path}/road_graph/edge_shenzhen.csv\"\n",
    "\n",
    "nodes_df = pd.read_csv(nodes_path)\n",
    "edges_df = pd.read_csv(edges_path)\n",
    "\n",
    "# Fetch node coordinates\n",
    "csvt_nodes_dict = dict()\n",
    "for _, row in nodes_df.iterrows():\n",
    "    node_id = int(row[\"NodeID\"])\n",
    "    if node_id in csvt_node_ids:\n",
    "        csvt_nodes_dict[node_id] = {\"lon\": float(row[\"Longitude\"]), \"lat\": float(row[\"Latitude\"])}\n",
    "\n",
    "mmvc_nodes_dict = dict()\n",
    "with open(f\"{data_path}/dataset/map.json\", mode=\"r\", encoding=\"utf-8\") as file:\n",
    "    items = json.load(file)\n",
    "\n",
    "    for item in items:\n",
    "        node_id = item[\"id\"]\n",
    "        if item[\"type\"] == \"node\" and node_id in mmvc_node_ids:\n",
    "            mmvc_nodes_dict[node_id] = {\"x\": item[\"xy\"][0], \"y\": item[\"xy\"][1]}"
   ],
   "id": "cc360e7af320622e",
   "outputs": [],
   "execution_count": 16
  },
  {
   "metadata": {
    "ExecuteTime": {
     "end_time": "2025-04-16T15:13:23.114549Z",
     "start_time": "2025-04-16T15:13:23.107878Z"
    }
   },
   "cell_type": "code",
   "source": [
    "## Reverse-engineering of GPS coordinates\n",
    "gps_points = np.array(\n",
    "    [[csvt_nodes_dict[node_id][\"lon\"], csvt_nodes_dict[node_id][\"lat\"]] for node_id in csvt_node_ids]).astype(\n",
    "    np.float64)\n",
    "xy_points = np.array(\n",
    "    [[mmvc_nodes_dict[node_id][\"x\"], mmvc_nodes_dict[node_id][\"y\"]] for node_id in mmvc_node_ids]).astype(\n",
    "    np.float64)\n",
    "\n",
    "\n",
    "# Assumed projection includes rotation, translation and scaling\n",
    "def affine_transform(params, xy_points):\n",
    "    a, b, c, d, e, f = params\n",
    "    x, y = xy_points[:, 0], xy_points[:, 1]\n",
    "    lon = a * x + b * y + e\n",
    "    lat = c * x + d * y + f\n",
    "    return np.vstack([lon, lat]).T\n",
    "\n",
    "\n",
    "def error_func(params, xy_points, gps_points):\n",
    "    transformed = affine_transform(params, xy_points)\n",
    "    return (transformed - gps_points).flatten()\n",
    "\n",
    "\n",
    "initial_guess = [1, 0, 0, 1, 0, 0]  # identity\n",
    "result = least_squares(error_func, initial_guess, method=\"lm\", args=(xy_points, gps_points))\n",
    "\n",
    "# [-4.25994981e-06, -8.74119271e-06, 8.11700876e-06, -3.95042166e-06, 1.14014210e+02, 2.26438070e+01]\n",
    "opt_params = result.x\n",
    "print(\"Optimal parameters: \", opt_params)\n",
    "\n",
    "transformed_gps_points = affine_transform(opt_params, xy_points)\n",
    "print(\"Actual GPS points:\")\n",
    "print(gps_points)\n",
    "print(\"Transformed GPS points:\")\n",
    "print(transformed_gps_points)\n",
    "\n",
    "print(\"Mean error: \", np.mean(np.sqrt(np.sum(np.power(transformed_gps_points - gps_points, 2), axis=1))))"
   ],
   "id": "d82045c47f5fb939",
   "outputs": [
    {
     "name": "stdout",
     "output_type": "stream",
     "text": [
      "Optimal parameters:  [-4.25994981e-06 -8.74119271e-06  8.11700876e-06 -3.95042166e-06\n",
      "  1.14014210e+02  2.26438070e+01]\n",
      "Actual GPS points:\n",
      "[[114.040536  22.656135]\n",
      " [114.039998  22.645723]\n",
      " [114.029911  22.646878]\n",
      " [114.03589   22.6473  ]\n",
      " [114.030613  22.649589]\n",
      " [114.037547  22.599173]\n",
      " [114.035699  22.601163]\n",
      " [114.005028  22.676499]\n",
      " [114.005181  22.679942]\n",
      " [114.055657  22.625086]\n",
      " [114.050207  22.625298]\n",
      " [114.060067  22.615359]]\n",
      "Transformed GPS points:\n",
      "[[114.04052899  22.65611959]\n",
      " [114.03997597  22.64572208]\n",
      " [114.02988292  22.64687848]\n",
      " [114.03585077  22.64730729]\n",
      " [114.03059047  22.64959076]\n",
      " [114.03755338  22.59917522]\n",
      " [114.03568483  22.6011462 ]\n",
      " [114.0049825   22.67660391]\n",
      " [114.00526788  22.67984663]\n",
      " [114.05564635  22.62508374]\n",
      " [114.05031317  22.62528707]\n",
      " [114.06005677  22.61538402]]\n",
      "Mean error:  4.552703110455817e-05\n"
     ]
    }
   ],
   "execution_count": 17
  }
 ],
 "metadata": {
  "kernelspec": {
   "display_name": "Python 3",
   "language": "python",
   "name": "python3"
  },
  "language_info": {
   "codemirror_mode": {
    "name": "ipython",
    "version": 2
   },
   "file_extension": ".py",
   "mimetype": "text/x-python",
   "name": "python",
   "nbconvert_exporter": "python",
   "pygments_lexer": "ipython2",
   "version": "2.7.6"
  }
 },
 "nbformat": 4,
 "nbformat_minor": 5
}
